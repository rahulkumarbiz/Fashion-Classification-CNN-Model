{
 "cells": [
  {
   "cell_type": "markdown",
   "metadata": {
    "colab_type": "text",
    "id": "KIzyrp3QNZli"
   },
   "source": [
    "## Building CNN-Convolution Neural Network"
   ]
  },
  {
   "cell_type": "markdown",
   "metadata": {
    "colab_type": "text",
    "id": "O4JWbGwYNp4M"
   },
   "source": [
    "Train Convolution Neural Network on 60,000 Fashion-MNIST images(data in NP array)\n",
    "\n",
    "Test Convolution Neural Network on 10,000 Fashion-MNIST images(data in NP array)\n",
    "\n",
    "\n"
   ]
  },
  {
   "cell_type": "code",
   "execution_count": 1,
   "metadata": {
    "colab": {
     "base_uri": "https://localhost:8080/",
     "height": 87
    },
    "colab_type": "code",
    "id": "JmdYXRAoODuM",
    "outputId": "c3c04370-90ca-4b30-f8c1-9a52c8976d4a"
   },
   "outputs": [
    {
     "ename": "ModuleNotFoundError",
     "evalue": "No module named 'keras'",
     "output_type": "error",
     "traceback": [
      "\u001b[1;31m---------------------------------------------------------------------------\u001b[0m",
      "\u001b[1;31mModuleNotFoundError\u001b[0m                       Traceback (most recent call last)",
      "\u001b[1;32m<ipython-input-1-100a8fb4069b>\u001b[0m in \u001b[0;36m<module>\u001b[1;34m()\u001b[0m\n\u001b[0;32m      3\u001b[0m \u001b[1;32mimport\u001b[0m \u001b[0mmatplotlib\u001b[0m\u001b[1;33m.\u001b[0m\u001b[0mpyplot\u001b[0m \u001b[1;32mas\u001b[0m \u001b[0mplt\u001b[0m\u001b[1;33m\u001b[0m\u001b[0m\n\u001b[0;32m      4\u001b[0m \u001b[1;32mimport\u001b[0m \u001b[0mseaborn\u001b[0m \u001b[1;32mas\u001b[0m \u001b[0msns\u001b[0m\u001b[1;33m\u001b[0m\u001b[0m\n\u001b[1;32m----> 5\u001b[1;33m \u001b[1;32mimport\u001b[0m \u001b[0mkeras\u001b[0m\u001b[1;33m\u001b[0m\u001b[0m\n\u001b[0m",
      "\u001b[1;31mModuleNotFoundError\u001b[0m: No module named 'keras'"
     ]
    }
   ],
   "source": [
    "#Importing libraries\n",
    "import numpy as np\n",
    "import matplotlib.pyplot as plt\n",
    "import seaborn as sns\n",
    "import keras"
   ]
  },
  {
   "cell_type": "code",
   "execution_count": 2,
   "metadata": {
    "colab": {
     "base_uri": "https://localhost:8080/",
     "height": 171
    },
    "colab_type": "code",
    "id": "r8Q8Z6khOTz6",
    "outputId": "d5dada19-83b3-47dd-a2b2-96e278130fe9"
   },
   "outputs": [
    {
     "ename": "NameError",
     "evalue": "name 'keras' is not defined",
     "output_type": "error",
     "traceback": [
      "\u001b[1;31m---------------------------------------------------------------------------\u001b[0m",
      "\u001b[1;31mNameError\u001b[0m                                 Traceback (most recent call last)",
      "\u001b[1;32m<ipython-input-2-e4ef259fe725>\u001b[0m in \u001b[0;36m<module>\u001b[1;34m()\u001b[0m\n\u001b[0;32m      1\u001b[0m \u001b[1;31m#Load Data\u001b[0m\u001b[1;33m\u001b[0m\u001b[1;33m\u001b[0m\u001b[0m\n\u001b[1;32m----> 2\u001b[1;33m \u001b[1;33m(\u001b[0m\u001b[0mx_train\u001b[0m\u001b[1;33m,\u001b[0m\u001b[0my_train\u001b[0m\u001b[1;33m)\u001b[0m\u001b[1;33m,\u001b[0m\u001b[1;33m(\u001b[0m\u001b[0mx_test\u001b[0m\u001b[1;33m,\u001b[0m\u001b[0my_test\u001b[0m\u001b[1;33m)\u001b[0m\u001b[1;33m=\u001b[0m\u001b[0mkeras\u001b[0m\u001b[1;33m.\u001b[0m\u001b[0mdatasets\u001b[0m\u001b[1;33m.\u001b[0m\u001b[0mfashion_mnist\u001b[0m\u001b[1;33m.\u001b[0m\u001b[0mload_data\u001b[0m\u001b[1;33m(\u001b[0m\u001b[1;33m)\u001b[0m\u001b[1;33m\u001b[0m\u001b[0m\n\u001b[0m",
      "\u001b[1;31mNameError\u001b[0m: name 'keras' is not defined"
     ]
    }
   ],
   "source": [
    "#Load Data\n",
    "(x_train,y_train),(x_test,y_test)=keras.datasets.fashion_mnist.load_data()"
   ]
  },
  {
   "cell_type": "code",
   "execution_count": 3,
   "metadata": {
    "colab": {
     "base_uri": "https://localhost:8080/",
     "height": 34
    },
    "colab_type": "code",
    "id": "MFlHuvL3PB_A",
    "outputId": "27c47ce0-0c50-4f44-a1aa-26d24c76d450"
   },
   "outputs": [
    {
     "ename": "NameError",
     "evalue": "name 'x_train' is not defined",
     "output_type": "error",
     "traceback": [
      "\u001b[1;31m---------------------------------------------------------------------------\u001b[0m",
      "\u001b[1;31mNameError\u001b[0m                                 Traceback (most recent call last)",
      "\u001b[1;32m<ipython-input-3-44f01697ec91>\u001b[0m in \u001b[0;36m<module>\u001b[1;34m()\u001b[0m\n\u001b[1;32m----> 1\u001b[1;33m \u001b[0mx_train\u001b[0m\u001b[1;33m.\u001b[0m\u001b[0mshape\u001b[0m\u001b[1;33m,\u001b[0m\u001b[0my_train\u001b[0m\u001b[1;33m.\u001b[0m\u001b[0mshape\u001b[0m\u001b[1;33m\u001b[0m\u001b[0m\n\u001b[0m",
      "\u001b[1;31mNameError\u001b[0m: name 'x_train' is not defined"
     ]
    }
   ],
   "source": [
    "x_train.shape,y_train.shape"
   ]
  },
  {
   "cell_type": "code",
   "execution_count": 4,
   "metadata": {
    "colab": {
     "base_uri": "https://localhost:8080/",
     "height": 34
    },
    "colab_type": "code",
    "id": "rKHy1-dAPL8p",
    "outputId": "52c29cec-d39b-4332-c208-c4cf673bf97b"
   },
   "outputs": [
    {
     "ename": "NameError",
     "evalue": "name 'x_test' is not defined",
     "output_type": "error",
     "traceback": [
      "\u001b[1;31m---------------------------------------------------------------------------\u001b[0m",
      "\u001b[1;31mNameError\u001b[0m                                 Traceback (most recent call last)",
      "\u001b[1;32m<ipython-input-4-8cfb1a8c13cb>\u001b[0m in \u001b[0;36m<module>\u001b[1;34m()\u001b[0m\n\u001b[1;32m----> 1\u001b[1;33m \u001b[0mx_test\u001b[0m\u001b[1;33m.\u001b[0m\u001b[0mshape\u001b[0m\u001b[1;33m,\u001b[0m\u001b[0my_test\u001b[0m\u001b[1;33m.\u001b[0m\u001b[0mshape\u001b[0m\u001b[1;33m\u001b[0m\u001b[0m\n\u001b[0m",
      "\u001b[1;31mNameError\u001b[0m: name 'x_test' is not defined"
     ]
    }
   ],
   "source": [
    "x_test.shape,y_test.shape"
   ]
  },
  {
   "cell_type": "code",
   "execution_count": 6,
   "metadata": {
    "colab": {
     "base_uri": "https://localhost:8080/",
     "height": 840
    },
    "colab_type": "code",
    "id": "iWSR6WZlPXWW",
    "outputId": "1ab29a0f-c712-4781-9495-b0404566066c"
   },
   "outputs": [
    {
     "data": {
      "text/plain": [
       "array([[[0, 0, 0, ..., 0, 0, 0],\n",
       "        [0, 0, 0, ..., 0, 0, 0],\n",
       "        [0, 0, 0, ..., 0, 0, 0],\n",
       "        ...,\n",
       "        [0, 0, 0, ..., 0, 0, 0],\n",
       "        [0, 0, 0, ..., 0, 0, 0],\n",
       "        [0, 0, 0, ..., 0, 0, 0]],\n",
       "\n",
       "       [[0, 0, 0, ..., 0, 0, 0],\n",
       "        [0, 0, 0, ..., 0, 0, 0],\n",
       "        [0, 0, 0, ..., 0, 0, 0],\n",
       "        ...,\n",
       "        [0, 0, 0, ..., 0, 0, 0],\n",
       "        [0, 0, 0, ..., 0, 0, 0],\n",
       "        [0, 0, 0, ..., 0, 0, 0]],\n",
       "\n",
       "       [[0, 0, 0, ..., 0, 0, 0],\n",
       "        [0, 0, 0, ..., 0, 0, 0],\n",
       "        [0, 0, 0, ..., 0, 0, 0],\n",
       "        ...,\n",
       "        [0, 0, 0, ..., 0, 0, 0],\n",
       "        [0, 0, 0, ..., 0, 0, 0],\n",
       "        [0, 0, 0, ..., 0, 0, 0]],\n",
       "\n",
       "       ...,\n",
       "\n",
       "       [[0, 0, 0, ..., 0, 0, 0],\n",
       "        [0, 0, 0, ..., 0, 0, 0],\n",
       "        [0, 0, 0, ..., 0, 0, 0],\n",
       "        ...,\n",
       "        [0, 0, 0, ..., 0, 0, 0],\n",
       "        [0, 0, 0, ..., 0, 0, 0],\n",
       "        [0, 0, 0, ..., 0, 0, 0]],\n",
       "\n",
       "       [[0, 0, 0, ..., 0, 0, 0],\n",
       "        [0, 0, 0, ..., 0, 0, 0],\n",
       "        [0, 0, 0, ..., 0, 0, 0],\n",
       "        ...,\n",
       "        [0, 0, 0, ..., 0, 0, 0],\n",
       "        [0, 0, 0, ..., 0, 0, 0],\n",
       "        [0, 0, 0, ..., 0, 0, 0]],\n",
       "\n",
       "       [[0, 0, 0, ..., 0, 0, 0],\n",
       "        [0, 0, 0, ..., 0, 0, 0],\n",
       "        [0, 0, 0, ..., 0, 0, 0],\n",
       "        ...,\n",
       "        [0, 0, 0, ..., 0, 0, 0],\n",
       "        [0, 0, 0, ..., 0, 0, 0],\n",
       "        [0, 0, 0, ..., 0, 0, 0]]], dtype=uint8)"
      ]
     },
     "execution_count": 6,
     "metadata": {
      "tags": []
     },
     "output_type": "execute_result"
    }
   ],
   "source": [
    "x_train  #in form of array"
   ]
  },
  {
   "cell_type": "code",
   "execution_count": 7,
   "metadata": {
    "colab": {
     "base_uri": "https://localhost:8080/",
     "height": 1000
    },
    "colab_type": "code",
    "id": "pjCTKBh8PcBE",
    "outputId": "08bf207f-c9a7-4f73-d471-7903c9e5eece"
   },
   "outputs": [
    {
     "data": {
      "text/plain": [
       "array([[  0,   0,   0,   0,   0,   0,   0,   0,   0,   0,   0,   0,   0,\n",
       "          0,   0,   0,   0,   0,   0,   0,   0,   0,   0,   0,   0,   0,\n",
       "          0,   0],\n",
       "       [  0,   0,   0,   0,   0,   0,   0,   0,   0,   0,   0,   0,   0,\n",
       "          0,   0,   0,   0,   0,   0,   0,   0,   0,   0,   0,   0,   0,\n",
       "          0,   0],\n",
       "       [  0,   0,   0,   0,   0,   0,   0,   0,   0,   0,   0,   0,   0,\n",
       "          0,   0,   0,   0,   0,   0,   0,   0,   0,   0,   0,   0,   0,\n",
       "          0,   0],\n",
       "       [  0,   0,   0,   0,   0,   0,   0,   0,   0,   0,   0,   0,   0,\n",
       "          0,   0,   0,   0,   0,   0,   0,   0,   0,   0,   0,   0,   0,\n",
       "          0,   0],\n",
       "       [  0,   0,   0,   0,   0,   0,   0,   0,   0,   0,   0,   0,   0,\n",
       "          0,   0,   0,   0,   0,   0,   0,   0,   0,   0,   0,   0,   0,\n",
       "          0,   0],\n",
       "       [  0,   0,   0,   0,   0,   0,   0,   0,   0,   0,   0,   0,   0,\n",
       "          0,   0,   0,   0,   0,   0,   0,   0,   0,   0,   0,   0,   0,\n",
       "          0,   0],\n",
       "       [  0,   0,   0,   0,   0,   0,   0,   0,   0,   0,   0,   0,   0,\n",
       "          0,   0,   0,   0,   0,   0,   0,   0,   0,   0,   0,   0,   0,\n",
       "          0,   0],\n",
       "       [  0,   0,   0,   0,   0,   0,   0,   0,   0,   0,   0,   0,   0,\n",
       "          0,   0,   0,   0,   0,   0,   3,   1,   0,   0,   7,   0,  37,\n",
       "          0,   0],\n",
       "       [  0,   0,   0,   0,   0,   0,   0,   0,   0,   0,   0,   0,   0,\n",
       "          1,   2,   0,  27,  84,  11,   0,   0,   0,   0,   0,   0, 119,\n",
       "          0,   0],\n",
       "       [  0,   0,   0,   0,   0,   0,   0,   0,   0,   0,   0,   0,   0,\n",
       "          1,   0,   0,  88, 143, 110,   0,   0,   0,   0,  22,  93, 106,\n",
       "          0,   0],\n",
       "       [  0,   0,   0,   0,   0,   0,   0,   0,   0,   0,   0,   0,   0,\n",
       "          4,   0,  53, 129, 120, 147, 175, 157, 166, 135, 154, 168, 140,\n",
       "          0,   0],\n",
       "       [  0,   0,   0,   0,   0,   0,   0,   0,   0,   0,   0,   0,   2,\n",
       "          0,  11, 137, 130, 128, 160, 176, 159, 167, 178, 149, 151, 144,\n",
       "          0,   0],\n",
       "       [  0,   0,   0,   0,   0,   0,   1,   0,   2,   1,   0,   3,   0,\n",
       "          0, 115, 114, 106, 137, 168, 153, 156, 165, 167, 143, 157, 158,\n",
       "         11,   0],\n",
       "       [  0,   0,   0,   0,   1,   0,   0,   0,   0,   0,   3,   0,   0,\n",
       "         89, 139,  90,  94, 153, 149, 131, 151, 169, 172, 143, 159, 169,\n",
       "         48,   0],\n",
       "       [  0,   0,   0,   0,   0,   0,   2,   4,   1,   0,   0,   0,  98,\n",
       "        136, 110, 109, 110, 162, 135, 144, 149, 159, 167, 144, 158, 169,\n",
       "        119,   0],\n",
       "       [  0,   0,   2,   2,   1,   2,   0,   0,   0,   0,  26, 108, 117,\n",
       "         99, 111, 117, 136, 156, 134, 154, 154, 156, 160, 141, 147, 156,\n",
       "        178,   0],\n",
       "       [  3,   0,   0,   0,   0,   0,   0,  21,  53,  92, 117, 111, 103,\n",
       "        115, 129, 134, 143, 154, 165, 170, 154, 151, 154, 143, 138, 150,\n",
       "        165,  43],\n",
       "       [  0,   0,  23,  54,  65,  76,  85, 118, 128, 123, 111, 113, 118,\n",
       "        127, 125, 139, 133, 136, 160, 140, 155, 161, 144, 155, 172, 161,\n",
       "        189,  62],\n",
       "       [  0,  68,  94,  90, 111, 114, 111, 114, 115, 127, 135, 136, 143,\n",
       "        126, 127, 151, 154, 143, 148, 125, 162, 162, 144, 138, 153, 162,\n",
       "        196,  58],\n",
       "       [ 70, 169, 129, 104,  98, 100,  94,  97,  98, 102, 108, 106, 119,\n",
       "        120, 129, 149, 156, 167, 190, 190, 196, 198, 198, 187, 197, 189,\n",
       "        184,  36],\n",
       "       [ 16, 126, 171, 188, 188, 184, 171, 153, 135, 120, 126, 127, 146,\n",
       "        185, 195, 209, 208, 255, 209, 177, 245, 252, 251, 251, 247, 220,\n",
       "        206,  49],\n",
       "       [  0,   0,   0,  12,  67, 106, 164, 185, 199, 210, 211, 210, 208,\n",
       "        190, 150,  82,   8,   0,   0,   0, 178, 208, 188, 175, 162, 158,\n",
       "        151,  11],\n",
       "       [  0,   0,   0,   0,   0,   0,   0,   0,   0,   0,   0,   0,   0,\n",
       "          0,   0,   0,   0,   0,   0,   0,   0,   0,   0,   0,   0,   0,\n",
       "          0,   0],\n",
       "       [  0,   0,   0,   0,   0,   0,   0,   0,   0,   0,   0,   0,   0,\n",
       "          0,   0,   0,   0,   0,   0,   0,   0,   0,   0,   0,   0,   0,\n",
       "          0,   0],\n",
       "       [  0,   0,   0,   0,   0,   0,   0,   0,   0,   0,   0,   0,   0,\n",
       "          0,   0,   0,   0,   0,   0,   0,   0,   0,   0,   0,   0,   0,\n",
       "          0,   0],\n",
       "       [  0,   0,   0,   0,   0,   0,   0,   0,   0,   0,   0,   0,   0,\n",
       "          0,   0,   0,   0,   0,   0,   0,   0,   0,   0,   0,   0,   0,\n",
       "          0,   0],\n",
       "       [  0,   0,   0,   0,   0,   0,   0,   0,   0,   0,   0,   0,   0,\n",
       "          0,   0,   0,   0,   0,   0,   0,   0,   0,   0,   0,   0,   0,\n",
       "          0,   0],\n",
       "       [  0,   0,   0,   0,   0,   0,   0,   0,   0,   0,   0,   0,   0,\n",
       "          0,   0,   0,   0,   0,   0,   0,   0,   0,   0,   0,   0,   0,\n",
       "          0,   0]], dtype=uint8)"
      ]
     },
     "execution_count": 7,
     "metadata": {
      "tags": []
     },
     "output_type": "execute_result"
    }
   ],
   "source": [
    "x_test[0] #first element "
   ]
  },
  {
   "cell_type": "code",
   "execution_count": 8,
   "metadata": {
    "colab": {
     "base_uri": "https://localhost:8080/",
     "height": 34
    },
    "colab_type": "code",
    "id": "HdW4CHwzPoDa",
    "outputId": "1cbe3557-e211-49c2-f8c9-602e31314f41"
   },
   "outputs": [
    {
     "data": {
      "text/plain": [
       "9"
      ]
     },
     "execution_count": 8,
     "metadata": {
      "tags": []
     },
     "output_type": "execute_result"
    }
   ],
   "source": [
    "y_train[0]  "
   ]
  },
  {
   "cell_type": "code",
   "execution_count": 9,
   "metadata": {
    "colab": {
     "base_uri": "https://localhost:8080/",
     "height": 52
    },
    "colab_type": "code",
    "id": "5-QsIzXJP3Jn",
    "outputId": "57d04f33-4acb-4c17-a4a7-97afa67b7a81"
   },
   "outputs": [
    {
     "data": {
      "application/vnd.google.colaboratory.intrinsic+json": {
       "type": "string"
      },
      "text/plain": [
       "'\\n0 => T-shirt/top \\n1 => Trouser \\n2 => Pullover \\n3 => Dress \\n4 => Coat \\n5 => Sandal \\n6 => Shirt \\n7 => Sneaker \\n8 => Bag \\n9 => Ankle boot '"
      ]
     },
     "execution_count": 9,
     "metadata": {
      "tags": []
     },
     "output_type": "execute_result"
    }
   ],
   "source": [
    "class_labels = [\"T-shirt/top\",\"Trouser\",\"Pullover\",\"Dress\",\"Coat\",\"Sandal\",\"Shirt\",\"Sneaker\",\"Bag\",\"Ankle boot\"]\n",
    "'''\n",
    "0 => T-shirt/top \n",
    "1 => Trouser \n",
    "2 => Pullover \n",
    "3 => Dress \n",
    "4 => Coat \n",
    "5 => Sandal \n",
    "6 => Shirt \n",
    "7 => Sneaker \n",
    "8 => Bag \n",
    "9 => Ankle boot '''"
   ]
  },
  {
   "cell_type": "code",
   "execution_count": 10,
   "metadata": {
    "colab": {
     "base_uri": "https://localhost:8080/",
     "height": 282
    },
    "colab_type": "code",
    "id": "rm40WJ3tQNP-",
    "outputId": "c64d8c1e-5462-4dc0-eb01-34611ccd0a8f"
   },
   "outputs": [
    {
     "data": {
      "text/plain": [
       "<matplotlib.image.AxesImage at 0x7fe00d886b38>"
      ]
     },
     "execution_count": 10,
     "metadata": {
      "tags": []
     },
     "output_type": "execute_result"
    },
    {
     "data": {
      "image/png": "[encoded data removed]",
      "text/plain": [
       "<Figure size 432x288 with 1 Axes>"
      ]
     },
     "metadata": {
      "needs_background": "light",
      "tags": []
     },
     "output_type": "display_data"
    }
   ],
   "source": [
    "#Show image\n",
    "plt.imshow(x_train[0],cmap = \"Greys\")"
   ]
  },
  {
   "cell_type": "code",
   "execution_count": 11,
   "metadata": {
    "colab": {
     "base_uri": "https://localhost:8080/",
     "height": 282
    },
    "colab_type": "code",
    "id": "ntraEBkjQ4io",
    "outputId": "8e1ec05a-8815-44c2-98bd-4d7954b8c2ae"
   },
   "outputs": [
    {
     "data": {
      "text/plain": [
       "<matplotlib.image.AxesImage at 0x7fe00d356208>"
      ]
     },
     "execution_count": 11,
     "metadata": {
      "tags": []
     },
     "output_type": "execute_result"
    },
    {
     "data": {
      "image/png": "[encoded data removed]",
      "text/plain": [
       "<Figure size 432x288 with 1 Axes>"
      ]
     },
     "metadata": {
      "needs_background": "light",
      "tags": []
     },
     "output_type": "display_data"
    }
   ],
   "source": [
    "plt.imshow(x_train[1],cmap=\"Greys\")"
   ]
  },
  {
   "cell_type": "code",
   "execution_count": 12,
   "metadata": {
    "colab": {
     "base_uri": "https://localhost:8080/",
     "height": 664
    },
    "colab_type": "code",
    "id": "oG9dTewYScQy",
    "outputId": "77a83a30-9a48-4682-c00d-5e21d84abc91"
   },
   "outputs": [
    {
     "data": {
      "image/png": "[encoded data removed]",
      "text/plain": [
       "<Figure size 1152x1152 with 25 Axes>"
      ]
     },
     "metadata": {
      "needs_background": "light",
      "tags": []
     },
     "output_type": "display_data"
    }
   ],
   "source": [
    "plt.figure(figsize=(16,16))\n",
    "j=1\n",
    "for i in np.random.randint(0,1000,25):\n",
    "  plt.subplot(5,5,j); j+=1\n",
    "  plt.imshow(x_train[i],cmap=\"Greys\")\n",
    "  plt.axis(\"off\")\n",
    "  plt.title(f\"{class_labels[y_train[i]]}/{y_train[i]}\")"
   ]
  },
  {
   "cell_type": "markdown",
   "metadata": {
    "colab_type": "text",
    "id": "ErxQf0gfUwHY"
   },
   "source": [
    "## Change Dimention"
   ]
  },
  {
   "cell_type": "code",
   "execution_count": 13,
   "metadata": {
    "colab": {
     "base_uri": "https://localhost:8080/",
     "height": 34
    },
    "colab_type": "code",
    "id": "z6IGSbGhU2l-",
    "outputId": "0ad3f8c4-6dfb-4995-b5e4-9c493a0f9953"
   },
   "outputs": [
    {
     "data": {
      "text/plain": [
       "3"
      ]
     },
     "execution_count": 13,
     "metadata": {
      "tags": []
     },
     "output_type": "execute_result"
    }
   ],
   "source": [
    "x_train.ndim"
   ]
  },
  {
   "cell_type": "code",
   "execution_count": 14,
   "metadata": {
    "colab": {
     "base_uri": "https://localhost:8080/",
     "height": 34
    },
    "colab_type": "code",
    "id": "Tr44gheIU86Y",
    "outputId": "42eb1eae-4335-4344-b8fc-0b7f5c893258"
   },
   "outputs": [
    {
     "data": {
      "text/plain": [
       "(60000, 28, 28)"
      ]
     },
     "execution_count": 14,
     "metadata": {
      "tags": []
     },
     "output_type": "execute_result"
    }
   ],
   "source": [
    "x_train.shape"
   ]
  },
  {
   "cell_type": "code",
   "execution_count": 15,
   "metadata": {
    "colab": {},
    "colab_type": "code",
    "id": "AhlCG2luVFzR"
   },
   "outputs": [],
   "source": [
    "#chaning to 4 dim data\n",
    "x_train = np.expand_dims(x_train,-1)\n",
    "x_test = np.expand_dims(x_test,-1)"
   ]
  },
  {
   "cell_type": "code",
   "execution_count": 16,
   "metadata": {
    "colab": {
     "base_uri": "https://localhost:8080/",
     "height": 34
    },
    "colab_type": "code",
    "id": "QggJvdvUVf35",
    "outputId": "88c752b8-5e96-4ec9-cc46-24ef2f842711"
   },
   "outputs": [
    {
     "data": {
      "text/plain": [
       "((60000, 28, 28, 1), (10000, 28, 28, 1))"
      ]
     },
     "execution_count": 16,
     "metadata": {
      "tags": []
     },
     "output_type": "execute_result"
    }
   ],
   "source": [
    "x_train.shape,x_test.shape"
   ]
  },
  {
   "cell_type": "code",
   "execution_count": 17,
   "metadata": {
    "colab": {},
    "colab_type": "code",
    "id": "1OBYdknoVmhu"
   },
   "outputs": [],
   "source": [
    "#Feature Scaling\n",
    "x_train = x_train/255\n",
    "x_test = x_test/255"
   ]
  },
  {
   "cell_type": "code",
   "execution_count": 18,
   "metadata": {
    "colab": {
     "base_uri": "https://localhost:8080/",
     "height": 1000
    },
    "colab_type": "code",
    "id": "g_ZM1cmoWA-r",
    "outputId": "d44c8a42-e6a0-4c31-a171-de02ab4c8ad6"
   },
   "outputs": [
    {
     "data": {
      "text/plain": [
       "array([[[0.        ],\n",
       "        [0.        ],\n",
       "        [0.        ],\n",
       "        [0.        ],\n",
       "        [0.        ],\n",
       "        [0.        ],\n",
       "        [0.        ],\n",
       "        [0.        ],\n",
       "        [0.        ],\n",
       "        [0.        ],\n",
       "        [0.        ],\n",
       "        [0.        ],\n",
       "        [0.        ],\n",
       "        [0.        ],\n",
       "        [0.        ],\n",
       "        [0.        ],\n",
       "        [0.        ],\n",
       "        [0.        ],\n",
       "        [0.        ],\n",
       "        [0.        ],\n",
       "        [0.        ],\n",
       "        [0.        ],\n",
       "        [0.        ],\n",
       "        [0.        ],\n",
       "        [0.        ],\n",
       "        [0.        ],\n",
       "        [0.        ],\n",
       "        [0.        ]],\n",
       "\n",
       "       [[0.        ],\n",
       "        [0.        ],\n",
       "        [0.        ],\n",
       "        [0.        ],\n",
       "        [0.        ],\n",
       "        [0.        ],\n",
       "        [0.        ],\n",
       "        [0.        ],\n",
       "        [0.        ],\n",
       "        [0.        ],\n",
       "        [0.        ],\n",
       "        [0.        ],\n",
       "        [0.        ],\n",
       "        [0.        ],\n",
       "        [0.        ],\n",
       "        [0.        ],\n",
       "        [0.        ],\n",
       "        [0.        ],\n",
       "        [0.        ],\n",
       "        [0.        ],\n",
       "        [0.        ],\n",
       "        [0.        ],\n",
       "        [0.        ],\n",
       "        [0.        ],\n",
       "        [0.        ],\n",
       "        [0.        ],\n",
       "        [0.        ],\n",
       "        [0.        ]],\n",
       "\n",
       "       [[0.        ],\n",
       "        [0.        ],\n",
       "        [0.        ],\n",
       "        [0.        ],\n",
       "        [0.        ],\n",
       "        [0.        ],\n",
       "        [0.        ],\n",
       "        [0.        ],\n",
       "        [0.        ],\n",
       "        [0.        ],\n",
       "        [0.        ],\n",
       "        [0.        ],\n",
       "        [0.        ],\n",
       "        [0.        ],\n",
       "        [0.        ],\n",
       "        [0.        ],\n",
       "        [0.        ],\n",
       "        [0.        ],\n",
       "        [0.        ],\n",
       "        [0.        ],\n",
       "        [0.        ],\n",
       "        [0.        ],\n",
       "        [0.        ],\n",
       "        [0.        ],\n",
       "        [0.        ],\n",
       "        [0.        ],\n",
       "        [0.        ],\n",
       "        [0.        ]],\n",
       "\n",
       "       [[0.        ],\n",
       "        [0.        ],\n",
       "        [0.        ],\n",
       "        [0.        ],\n",
       "        [0.        ],\n",
       "        [0.        ],\n",
       "        [0.        ],\n",
       "        [0.        ],\n",
       "        [0.        ],\n",
       "        [0.        ],\n",
       "        [0.        ],\n",
       "        [0.        ],\n",
       "        [0.00392157],\n",
       "        [0.        ],\n",
       "        [0.        ],\n",
       "        [0.05098039],\n",
       "        [0.28627451],\n",
       "        [0.        ],\n",
       "        [0.        ],\n",
       "        [0.00392157],\n",
       "        [0.01568627],\n",
       "        [0.        ],\n",
       "        [0.        ],\n",
       "        [0.        ],\n",
       "        [0.        ],\n",
       "        [0.00392157],\n",
       "        [0.00392157],\n",
       "        [0.        ]],\n",
       "\n",
       "       [[0.        ],\n",
       "        [0.        ],\n",
       "        [0.        ],\n",
       "        [0.        ],\n",
       "        [0.        ],\n",
       "        [0.        ],\n",
       "        [0.        ],\n",
       "        [0.        ],\n",
       "        [0.        ],\n",
       "        [0.        ],\n",
       "        [0.        ],\n",
       "        [0.        ],\n",
       "        [0.01176471],\n",
       "        [0.        ],\n",
       "        [0.14117647],\n",
       "        [0.53333333],\n",
       "        [0.49803922],\n",
       "        [0.24313725],\n",
       "        [0.21176471],\n",
       "        [0.        ],\n",
       "        [0.        ],\n",
       "        [0.        ],\n",
       "        [0.00392157],\n",
       "        [0.01176471],\n",
       "        [0.01568627],\n",
       "        [0.        ],\n",
       "        [0.        ],\n",
       "        [0.01176471]],\n",
       "\n",
       "       [[0.        ],\n",
       "        [0.        ],\n",
       "        [0.        ],\n",
       "        [0.        ],\n",
       "        [0.        ],\n",
       "        [0.        ],\n",
       "        [0.        ],\n",
       "        [0.        ],\n",
       "        [0.        ],\n",
       "        [0.        ],\n",
       "        [0.        ],\n",
       "        [0.        ],\n",
       "        [0.02352941],\n",
       "        [0.        ],\n",
       "        [0.4       ],\n",
       "        [0.8       ],\n",
       "        [0.69019608],\n",
       "        [0.5254902 ],\n",
       "        [0.56470588],\n",
       "        [0.48235294],\n",
       "        [0.09019608],\n",
       "        [0.        ],\n",
       "        [0.        ],\n",
       "        [0.        ],\n",
       "        [0.        ],\n",
       "        [0.04705882],\n",
       "        [0.03921569],\n",
       "        [0.        ]],\n",
       "\n",
       "       [[0.        ],\n",
       "        [0.        ],\n",
       "        [0.        ],\n",
       "        [0.        ],\n",
       "        [0.        ],\n",
       "        [0.        ],\n",
       "        [0.        ],\n",
       "        [0.        ],\n",
       "        [0.        ],\n",
       "        [0.        ],\n",
       "        [0.        ],\n",
       "        [0.        ],\n",
       "        [0.        ],\n",
       "        [0.        ],\n",
       "        [0.60784314],\n",
       "        [0.9254902 ],\n",
       "        [0.81176471],\n",
       "        [0.69803922],\n",
       "        [0.41960784],\n",
       "        [0.61176471],\n",
       "        [0.63137255],\n",
       "        [0.42745098],\n",
       "        [0.25098039],\n",
       "        [0.09019608],\n",
       "        [0.30196078],\n",
       "        [0.50980392],\n",
       "        [0.28235294],\n",
       "        [0.05882353]],\n",
       "\n",
       "       [[0.        ],\n",
       "        [0.        ],\n",
       "        [0.        ],\n",
       "        [0.        ],\n",
       "        [0.        ],\n",
       "        [0.        ],\n",
       "        [0.        ],\n",
       "        [0.        ],\n",
       "        [0.        ],\n",
       "        [0.        ],\n",
       "        [0.        ],\n",
       "        [0.00392157],\n",
       "        [0.        ],\n",
       "        [0.27058824],\n",
       "        [0.81176471],\n",
       "        [0.8745098 ],\n",
       "        [0.85490196],\n",
       "        [0.84705882],\n",
       "        [0.84705882],\n",
       "        [0.63921569],\n",
       "        [0.49803922],\n",
       "        [0.4745098 ],\n",
       "        [0.47843137],\n",
       "        [0.57254902],\n",
       "        [0.55294118],\n",
       "        [0.34509804],\n",
       "        [0.6745098 ],\n",
       "        [0.25882353]],\n",
       "\n",
       "       [[0.        ],\n",
       "        [0.        ],\n",
       "        [0.        ],\n",
       "        [0.        ],\n",
       "        [0.        ],\n",
       "        [0.        ],\n",
       "        [0.        ],\n",
       "        [0.        ],\n",
       "        [0.        ],\n",
       "        [0.00392157],\n",
       "        [0.00392157],\n",
       "        [0.00392157],\n",
       "        [0.        ],\n",
       "        [0.78431373],\n",
       "        [0.90980392],\n",
       "        [0.90980392],\n",
       "        [0.91372549],\n",
       "        [0.89803922],\n",
       "        [0.8745098 ],\n",
       "        [0.8745098 ],\n",
       "        [0.84313725],\n",
       "        [0.83529412],\n",
       "        [0.64313725],\n",
       "        [0.49803922],\n",
       "        [0.48235294],\n",
       "        [0.76862745],\n",
       "        [0.89803922],\n",
       "        [0.        ]],\n",
       "\n",
       "       [[0.        ],\n",
       "        [0.        ],\n",
       "        [0.        ],\n",
       "        [0.        ],\n",
       "        [0.        ],\n",
       "        [0.        ],\n",
       "        [0.        ],\n",
       "        [0.        ],\n",
       "        [0.        ],\n",
       "        [0.        ],\n",
       "        [0.        ],\n",
       "        [0.        ],\n",
       "        [0.        ],\n",
       "        [0.71764706],\n",
       "        [0.88235294],\n",
       "        [0.84705882],\n",
       "        [0.8745098 ],\n",
       "        [0.89411765],\n",
       "        [0.92156863],\n",
       "        [0.89019608],\n",
       "        [0.87843137],\n",
       "        [0.87058824],\n",
       "        [0.87843137],\n",
       "        [0.86666667],\n",
       "        [0.8745098 ],\n",
       "        [0.96078431],\n",
       "        [0.67843137],\n",
       "        [0.        ]],\n",
       "\n",
       "       [[0.        ],\n",
       "        [0.        ],\n",
       "        [0.        ],\n",
       "        [0.        ],\n",
       "        [0.        ],\n",
       "        [0.        ],\n",
       "        [0.        ],\n",
       "        [0.        ],\n",
       "        [0.        ],\n",
       "        [0.        ],\n",
       "        [0.        ],\n",
       "        [0.        ],\n",
       "        [0.        ],\n",
       "        [0.75686275],\n",
       "        [0.89411765],\n",
       "        [0.85490196],\n",
       "        [0.83529412],\n",
       "        [0.77647059],\n",
       "        [0.70588235],\n",
       "        [0.83137255],\n",
       "        [0.82352941],\n",
       "        [0.82745098],\n",
       "        [0.83529412],\n",
       "        [0.8745098 ],\n",
       "        [0.8627451 ],\n",
       "        [0.95294118],\n",
       "        [0.79215686],\n",
       "        [0.        ]],\n",
       "\n",
       "       [[0.        ],\n",
       "        [0.        ],\n",
       "        [0.        ],\n",
       "        [0.        ],\n",
       "        [0.        ],\n",
       "        [0.        ],\n",
       "        [0.        ],\n",
       "        [0.        ],\n",
       "        [0.        ],\n",
       "        [0.00392157],\n",
       "        [0.01176471],\n",
       "        [0.        ],\n",
       "        [0.04705882],\n",
       "        [0.85882353],\n",
       "        [0.8627451 ],\n",
       "        [0.83137255],\n",
       "        [0.85490196],\n",
       "        [0.75294118],\n",
       "        [0.6627451 ],\n",
       "        [0.89019608],\n",
       "        [0.81568627],\n",
       "        [0.85490196],\n",
       "        [0.87843137],\n",
       "        [0.83137255],\n",
       "        [0.88627451],\n",
       "        [0.77254902],\n",
       "        [0.81960784],\n",
       "        [0.20392157]],\n",
       "\n",
       "       [[0.        ],\n",
       "        [0.        ],\n",
       "        [0.        ],\n",
       "        [0.        ],\n",
       "        [0.        ],\n",
       "        [0.        ],\n",
       "        [0.        ],\n",
       "        [0.        ],\n",
       "        [0.        ],\n",
       "        [0.        ],\n",
       "        [0.02352941],\n",
       "        [0.        ],\n",
       "        [0.38823529],\n",
       "        [0.95686275],\n",
       "        [0.87058824],\n",
       "        [0.8627451 ],\n",
       "        [0.85490196],\n",
       "        [0.79607843],\n",
       "        [0.77647059],\n",
       "        [0.86666667],\n",
       "        [0.84313725],\n",
       "        [0.83529412],\n",
       "        [0.87058824],\n",
       "        [0.8627451 ],\n",
       "        [0.96078431],\n",
       "        [0.46666667],\n",
       "        [0.65490196],\n",
       "        [0.21960784]],\n",
       "\n",
       "       [[0.        ],\n",
       "        [0.        ],\n",
       "        [0.        ],\n",
       "        [0.        ],\n",
       "        [0.        ],\n",
       "        [0.        ],\n",
       "        [0.        ],\n",
       "        [0.        ],\n",
       "        [0.        ],\n",
       "        [0.01568627],\n",
       "        [0.        ],\n",
       "        [0.        ],\n",
       "        [0.21568627],\n",
       "        [0.9254902 ],\n",
       "        [0.89411765],\n",
       "        [0.90196078],\n",
       "        [0.89411765],\n",
       "        [0.94117647],\n",
       "        [0.90980392],\n",
       "        [0.83529412],\n",
       "        [0.85490196],\n",
       "        [0.8745098 ],\n",
       "        [0.91764706],\n",
       "        [0.85098039],\n",
       "        [0.85098039],\n",
       "        [0.81960784],\n",
       "        [0.36078431],\n",
       "        [0.        ]],\n",
       "\n",
       "       [[0.        ],\n",
       "        [0.        ],\n",
       "        [0.00392157],\n",
       "        [0.01568627],\n",
       "        [0.02352941],\n",
       "        [0.02745098],\n",
       "        [0.00784314],\n",
       "        [0.        ],\n",
       "        [0.        ],\n",
       "        [0.        ],\n",
       "        [0.        ],\n",
       "        [0.        ],\n",
       "        [0.92941176],\n",
       "        [0.88627451],\n",
       "        [0.85098039],\n",
       "        [0.8745098 ],\n",
       "        [0.87058824],\n",
       "        [0.85882353],\n",
       "        [0.87058824],\n",
       "        [0.86666667],\n",
       "        [0.84705882],\n",
       "        [0.8745098 ],\n",
       "        [0.89803922],\n",
       "        [0.84313725],\n",
       "        [0.85490196],\n",
       "        [1.        ],\n",
       "        [0.30196078],\n",
       "        [0.        ]],\n",
       "\n",
       "       [[0.        ],\n",
       "        [0.01176471],\n",
       "        [0.        ],\n",
       "        [0.        ],\n",
       "        [0.        ],\n",
       "        [0.        ],\n",
       "        [0.        ],\n",
       "        [0.        ],\n",
       "        [0.        ],\n",
       "        [0.24313725],\n",
       "        [0.56862745],\n",
       "        [0.8       ],\n",
       "        [0.89411765],\n",
       "        [0.81176471],\n",
       "        [0.83529412],\n",
       "        [0.86666667],\n",
       "        [0.85490196],\n",
       "        [0.81568627],\n",
       "        [0.82745098],\n",
       "        [0.85490196],\n",
       "        [0.87843137],\n",
       "        [0.8745098 ],\n",
       "        [0.85882353],\n",
       "        [0.84313725],\n",
       "        [0.87843137],\n",
       "        [0.95686275],\n",
       "        [0.62352941],\n",
       "        [0.        ]],\n",
       "\n",
       "       [[0.        ],\n",
       "        [0.        ],\n",
       "        [0.        ],\n",
       "        [0.        ],\n",
       "        [0.07058824],\n",
       "        [0.17254902],\n",
       "        [0.32156863],\n",
       "        [0.41960784],\n",
       "        [0.74117647],\n",
       "        [0.89411765],\n",
       "        [0.8627451 ],\n",
       "        [0.87058824],\n",
       "        [0.85098039],\n",
       "        [0.88627451],\n",
       "        [0.78431373],\n",
       "        [0.80392157],\n",
       "        [0.82745098],\n",
       "        [0.90196078],\n",
       "        [0.87843137],\n",
       "        [0.91764706],\n",
       "        [0.69019608],\n",
       "        [0.7372549 ],\n",
       "        [0.98039216],\n",
       "        [0.97254902],\n",
       "        [0.91372549],\n",
       "        [0.93333333],\n",
       "        [0.84313725],\n",
       "        [0.        ]],\n",
       "\n",
       "       [[0.        ],\n",
       "        [0.22352941],\n",
       "        [0.73333333],\n",
       "        [0.81568627],\n",
       "        [0.87843137],\n",
       "        [0.86666667],\n",
       "        [0.87843137],\n",
       "        [0.81568627],\n",
       "        [0.8       ],\n",
       "        [0.83921569],\n",
       "        [0.81568627],\n",
       "        [0.81960784],\n",
       "        [0.78431373],\n",
       "        [0.62352941],\n",
       "        [0.96078431],\n",
       "        [0.75686275],\n",
       "        [0.80784314],\n",
       "        [0.8745098 ],\n",
       "        [1.        ],\n",
       "        [1.        ],\n",
       "        [0.86666667],\n",
       "        [0.91764706],\n",
       "        [0.86666667],\n",
       "        [0.82745098],\n",
       "        [0.8627451 ],\n",
       "        [0.90980392],\n",
       "        [0.96470588],\n",
       "        [0.        ]],\n",
       "\n",
       "       [[0.01176471],\n",
       "        [0.79215686],\n",
       "        [0.89411765],\n",
       "        [0.87843137],\n",
       "        [0.86666667],\n",
       "        [0.82745098],\n",
       "        [0.82745098],\n",
       "        [0.83921569],\n",
       "        [0.80392157],\n",
       "        [0.80392157],\n",
       "        [0.80392157],\n",
       "        [0.8627451 ],\n",
       "        [0.94117647],\n",
       "        [0.31372549],\n",
       "        [0.58823529],\n",
       "        [1.        ],\n",
       "        [0.89803922],\n",
       "        [0.86666667],\n",
       "        [0.7372549 ],\n",
       "        [0.60392157],\n",
       "        [0.74901961],\n",
       "        [0.82352941],\n",
       "        [0.8       ],\n",
       "        [0.81960784],\n",
       "        [0.87058824],\n",
       "        [0.89411765],\n",
       "        [0.88235294],\n",
       "        [0.        ]],\n",
       "\n",
       "       [[0.38431373],\n",
       "        [0.91372549],\n",
       "        [0.77647059],\n",
       "        [0.82352941],\n",
       "        [0.87058824],\n",
       "        [0.89803922],\n",
       "        [0.89803922],\n",
       "        [0.91764706],\n",
       "        [0.97647059],\n",
       "        [0.8627451 ],\n",
       "        [0.76078431],\n",
       "        [0.84313725],\n",
       "        [0.85098039],\n",
       "        [0.94509804],\n",
       "        [0.25490196],\n",
       "        [0.28627451],\n",
       "        [0.41568627],\n",
       "        [0.45882353],\n",
       "        [0.65882353],\n",
       "        [0.85882353],\n",
       "        [0.86666667],\n",
       "        [0.84313725],\n",
       "        [0.85098039],\n",
       "        [0.8745098 ],\n",
       "        [0.8745098 ],\n",
       "        [0.87843137],\n",
       "        [0.89803922],\n",
       "        [0.11372549]],\n",
       "\n",
       "       [[0.29411765],\n",
       "        [0.8       ],\n",
       "        [0.83137255],\n",
       "        [0.8       ],\n",
       "        [0.75686275],\n",
       "        [0.80392157],\n",
       "        [0.82745098],\n",
       "        [0.88235294],\n",
       "        [0.84705882],\n",
       "        [0.7254902 ],\n",
       "        [0.77254902],\n",
       "        [0.80784314],\n",
       "        [0.77647059],\n",
       "        [0.83529412],\n",
       "        [0.94117647],\n",
       "        [0.76470588],\n",
       "        [0.89019608],\n",
       "        [0.96078431],\n",
       "        [0.9372549 ],\n",
       "        [0.8745098 ],\n",
       "        [0.85490196],\n",
       "        [0.83137255],\n",
       "        [0.81960784],\n",
       "        [0.87058824],\n",
       "        [0.8627451 ],\n",
       "        [0.86666667],\n",
       "        [0.90196078],\n",
       "        [0.2627451 ]],\n",
       "\n",
       "       [[0.18823529],\n",
       "        [0.79607843],\n",
       "        [0.71764706],\n",
       "        [0.76078431],\n",
       "        [0.83529412],\n",
       "        [0.77254902],\n",
       "        [0.7254902 ],\n",
       "        [0.74509804],\n",
       "        [0.76078431],\n",
       "        [0.75294118],\n",
       "        [0.79215686],\n",
       "        [0.83921569],\n",
       "        [0.85882353],\n",
       "        [0.86666667],\n",
       "        [0.8627451 ],\n",
       "        [0.9254902 ],\n",
       "        [0.88235294],\n",
       "        [0.84705882],\n",
       "        [0.78039216],\n",
       "        [0.80784314],\n",
       "        [0.72941176],\n",
       "        [0.70980392],\n",
       "        [0.69411765],\n",
       "        [0.6745098 ],\n",
       "        [0.70980392],\n",
       "        [0.80392157],\n",
       "        [0.80784314],\n",
       "        [0.45098039]],\n",
       "\n",
       "       [[0.        ],\n",
       "        [0.47843137],\n",
       "        [0.85882353],\n",
       "        [0.75686275],\n",
       "        [0.70196078],\n",
       "        [0.67058824],\n",
       "        [0.71764706],\n",
       "        [0.76862745],\n",
       "        [0.8       ],\n",
       "        [0.82352941],\n",
       "        [0.83529412],\n",
       "        [0.81176471],\n",
       "        [0.82745098],\n",
       "        [0.82352941],\n",
       "        [0.78431373],\n",
       "        [0.76862745],\n",
       "        [0.76078431],\n",
       "        [0.74901961],\n",
       "        [0.76470588],\n",
       "        [0.74901961],\n",
       "        [0.77647059],\n",
       "        [0.75294118],\n",
       "        [0.69019608],\n",
       "        [0.61176471],\n",
       "        [0.65490196],\n",
       "        [0.69411765],\n",
       "        [0.82352941],\n",
       "        [0.36078431]],\n",
       "\n",
       "       [[0.        ],\n",
       "        [0.        ],\n",
       "        [0.29019608],\n",
       "        [0.74117647],\n",
       "        [0.83137255],\n",
       "        [0.74901961],\n",
       "        [0.68627451],\n",
       "        [0.6745098 ],\n",
       "        [0.68627451],\n",
       "        [0.70980392],\n",
       "        [0.7254902 ],\n",
       "        [0.7372549 ],\n",
       "        [0.74117647],\n",
       "        [0.7372549 ],\n",
       "        [0.75686275],\n",
       "        [0.77647059],\n",
       "        [0.8       ],\n",
       "        [0.81960784],\n",
       "        [0.82352941],\n",
       "        [0.82352941],\n",
       "        [0.82745098],\n",
       "        [0.7372549 ],\n",
       "        [0.7372549 ],\n",
       "        [0.76078431],\n",
       "        [0.75294118],\n",
       "        [0.84705882],\n",
       "        [0.66666667],\n",
       "        [0.        ]],\n",
       "\n",
       "       [[0.00784314],\n",
       "        [0.        ],\n",
       "        [0.        ],\n",
       "        [0.        ],\n",
       "        [0.25882353],\n",
       "        [0.78431373],\n",
       "        [0.87058824],\n",
       "        [0.92941176],\n",
       "        [0.9372549 ],\n",
       "        [0.94901961],\n",
       "        [0.96470588],\n",
       "        [0.95294118],\n",
       "        [0.95686275],\n",
       "        [0.86666667],\n",
       "        [0.8627451 ],\n",
       "        [0.75686275],\n",
       "        [0.74901961],\n",
       "        [0.70196078],\n",
       "        [0.71372549],\n",
       "        [0.71372549],\n",
       "        [0.70980392],\n",
       "        [0.69019608],\n",
       "        [0.65098039],\n",
       "        [0.65882353],\n",
       "        [0.38823529],\n",
       "        [0.22745098],\n",
       "        [0.        ],\n",
       "        [0.        ]],\n",
       "\n",
       "       [[0.        ],\n",
       "        [0.        ],\n",
       "        [0.        ],\n",
       "        [0.        ],\n",
       "        [0.        ],\n",
       "        [0.        ],\n",
       "        [0.        ],\n",
       "        [0.15686275],\n",
       "        [0.23921569],\n",
       "        [0.17254902],\n",
       "        [0.28235294],\n",
       "        [0.16078431],\n",
       "        [0.1372549 ],\n",
       "        [0.        ],\n",
       "        [0.        ],\n",
       "        [0.        ],\n",
       "        [0.        ],\n",
       "        [0.        ],\n",
       "        [0.        ],\n",
       "        [0.        ],\n",
       "        [0.        ],\n",
       "        [0.        ],\n",
       "        [0.        ],\n",
       "        [0.        ],\n",
       "        [0.        ],\n",
       "        [0.        ],\n",
       "        [0.        ],\n",
       "        [0.        ]],\n",
       "\n",
       "       [[0.        ],\n",
       "        [0.        ],\n",
       "        [0.        ],\n",
       "        [0.        ],\n",
       "        [0.        ],\n",
       "        [0.        ],\n",
       "        [0.        ],\n",
       "        [0.        ],\n",
       "        [0.        ],\n",
       "        [0.        ],\n",
       "        [0.        ],\n",
       "        [0.        ],\n",
       "        [0.        ],\n",
       "        [0.        ],\n",
       "        [0.        ],\n",
       "        [0.        ],\n",
       "        [0.        ],\n",
       "        [0.        ],\n",
       "        [0.        ],\n",
       "        [0.        ],\n",
       "        [0.        ],\n",
       "        [0.        ],\n",
       "        [0.        ],\n",
       "        [0.        ],\n",
       "        [0.        ],\n",
       "        [0.        ],\n",
       "        [0.        ],\n",
       "        [0.        ]],\n",
       "\n",
       "       [[0.        ],\n",
       "        [0.        ],\n",
       "        [0.        ],\n",
       "        [0.        ],\n",
       "        [0.        ],\n",
       "        [0.        ],\n",
       "        [0.        ],\n",
       "        [0.        ],\n",
       "        [0.        ],\n",
       "        [0.        ],\n",
       "        [0.        ],\n",
       "        [0.        ],\n",
       "        [0.        ],\n",
       "        [0.        ],\n",
       "        [0.        ],\n",
       "        [0.        ],\n",
       "        [0.        ],\n",
       "        [0.        ],\n",
       "        [0.        ],\n",
       "        [0.        ],\n",
       "        [0.        ],\n",
       "        [0.        ],\n",
       "        [0.        ],\n",
       "        [0.        ],\n",
       "        [0.        ],\n",
       "        [0.        ],\n",
       "        [0.        ],\n",
       "        [0.        ]]])"
      ]
     },
     "execution_count": 18,
     "metadata": {
      "tags": []
     },
     "output_type": "execute_result"
    }
   ],
   "source": [
    "x_train[0]"
   ]
  },
  {
   "cell_type": "markdown",
   "metadata": {
    "colab_type": "text",
    "id": "syo0-8mtWl2f"
   },
   "source": [
    "## Split Dataset"
   ]
  },
  {
   "cell_type": "code",
   "execution_count": 19,
   "metadata": {
    "colab": {},
    "colab_type": "code",
    "id": "cwTcEa1rWpbl"
   },
   "outputs": [],
   "source": [
    "from sklearn.model_selection import train_test_split\n",
    "x_train,x_val,y_train,y_val = train_test_split(x_train,y_train,test_size=0.2)"
   ]
  },
  {
   "cell_type": "code",
   "execution_count": 20,
   "metadata": {
    "colab": {
     "base_uri": "https://localhost:8080/",
     "height": 34
    },
    "colab_type": "code",
    "id": "pmJ5-lpTXNl7",
    "outputId": "05603787-c024-4240-cb2c-1b8d08a0257e"
   },
   "outputs": [
    {
     "data": {
      "text/plain": [
       "((48000, 28, 28, 1), (48000,))"
      ]
     },
     "execution_count": 20,
     "metadata": {
      "tags": []
     },
     "output_type": "execute_result"
    }
   ],
   "source": [
    "x_train.shape,y_train.shape"
   ]
  },
  {
   "cell_type": "markdown",
   "metadata": {
    "colab_type": "text",
    "id": "8WxbmgC6Xx-K"
   },
   "source": [
    "## CNN-Model building"
   ]
  },
  {
   "cell_type": "code",
   "execution_count": 80,
   "metadata": {
    "colab": {},
    "colab_type": "code",
    "id": "W0VjeYQmXwA5"
   },
   "outputs": [],
   "source": [
    "model=keras.models.Sequential([\n",
    "                         keras.layers.Conv2D(filters=32,kernel_size=3,strides=(1,1),padding=\"valid\",activation=\"relu\",input_shape=[28,28,1]),\n",
    "                         keras.layers.MaxPooling2D(pool_size=(2,2)),\n",
    "                         keras.layers.Conv2D(filters=64,kernel_size=3,strides=(2,2),padding=\"same\",activation=\"relu\"),\n",
    "                         keras.layers.MaxPooling2D(pool_size=(2,2)),\n",
    "                         keras.layers.Flatten(),\n",
    "                         keras.layers.Dense(units=128,activation=\"relu\"),\n",
    "                         keras.layers.Dropout(0.25),\n",
    "                         keras.layers.Dense(units=256,activation=\"relu\"),\n",
    "                         keras.layers.Dropout(0.25),\n",
    "                         keras.layers.Dense(units=128,activation=\"relu\"),\n",
    "                         keras.layers.Dense(units=10,activation=\"softmax\")\n",
    "])"
   ]
  },
  {
   "cell_type": "code",
   "execution_count": 81,
   "metadata": {
    "colab": {
     "base_uri": "https://localhost:8080/",
     "height": 521
    },
    "colab_type": "code",
    "id": "mTAUY769avaC",
    "outputId": "b20304d3-6a0f-485a-9320-1d004d961f03"
   },
   "outputs": [
    {
     "name": "stdout",
     "output_type": "stream",
     "text": [
      "Model: \"sequential_3\"\n",
      "_________________________________________________________________\n",
      "Layer (type)                 Output Shape              Param #   \n",
      "=================================================================\n",
      "conv2d_4 (Conv2D)            (None, 26, 26, 32)        320       \n",
      "_________________________________________________________________\n",
      "max_pooling2d_4 (MaxPooling2 (None, 13, 13, 32)        0         \n",
      "_________________________________________________________________\n",
      "conv2d_5 (Conv2D)            (None, 7, 7, 64)          18496     \n",
      "_________________________________________________________________\n",
      "max_pooling2d_5 (MaxPooling2 (None, 3, 3, 64)          0         \n",
      "_________________________________________________________________\n",
      "flatten_3 (Flatten)          (None, 576)               0         \n",
      "_________________________________________________________________\n",
      "dense_7 (Dense)              (None, 128)               73856     \n",
      "_________________________________________________________________\n",
      "dropout_3 (Dropout)          (None, 128)               0         \n",
      "_________________________________________________________________\n",
      "dense_8 (Dense)              (None, 256)               33024     \n",
      "_________________________________________________________________\n",
      "dropout_4 (Dropout)          (None, 256)               0         \n",
      "_________________________________________________________________\n",
      "dense_9 (Dense)              (None, 128)               32896     \n",
      "_________________________________________________________________\n",
      "dense_10 (Dense)             (None, 10)                1290      \n",
      "=================================================================\n",
      "Total params: 159,882\n",
      "Trainable params: 159,882\n",
      "Non-trainable params: 0\n",
      "_________________________________________________________________\n"
     ]
    }
   ],
   "source": [
    " model.summary()"
   ]
  },
  {
   "cell_type": "code",
   "execution_count": 82,
   "metadata": {
    "colab": {},
    "colab_type": "code",
    "id": "h798_7HCcTNa"
   },
   "outputs": [],
   "source": [
    "model.compile(optimizer=\"adam\",loss=\"sparse_categorical_crossentropy\",metrics=['accuracy'])"
   ]
  },
  {
   "cell_type": "code",
   "execution_count": 83,
   "metadata": {
    "colab": {
     "base_uri": "https://localhost:8080/",
     "height": 1000
    },
    "colab_type": "code",
    "id": "4U2iE3etegTo",
    "outputId": "59a664fd-1201-4ed1-8fa6-879aff70248c"
   },
   "outputs": [
    {
     "name": "stdout",
     "output_type": "stream",
     "text": [
      "Train on 48000 samples, validate on 12000 samples\n",
      "Epoch 1/50\n",
      "48000/48000 [==============================] - 2s 49us/step - loss: 1.0227 - accuracy: 0.6167 - val_loss: 0.5565 - val_accuracy: 0.7827\n",
      "Epoch 2/50\n",
      "48000/48000 [==============================] - 2s 41us/step - loss: 0.5505 - accuracy: 0.7928 - val_loss: 0.4447 - val_accuracy: 0.8334\n",
      "Epoch 3/50\n",
      "48000/48000 [==============================] - 2s 41us/step - loss: 0.4633 - accuracy: 0.8285 - val_loss: 0.3938 - val_accuracy: 0.8528\n",
      "Epoch 4/50\n",
      "48000/48000 [==============================] - 2s 41us/step - loss: 0.4103 - accuracy: 0.8497 - val_loss: 0.3623 - val_accuracy: 0.8686\n",
      "Epoch 5/50\n",
      "48000/48000 [==============================] - 2s 41us/step - loss: 0.3744 - accuracy: 0.8636 - val_loss: 0.3325 - val_accuracy: 0.8770\n",
      "Epoch 6/50\n",
      "48000/48000 [==============================] - 2s 42us/step - loss: 0.3446 - accuracy: 0.8731 - val_loss: 0.3298 - val_accuracy: 0.8748\n",
      "Epoch 7/50\n",
      "48000/48000 [==============================] - 2s 42us/step - loss: 0.3242 - accuracy: 0.8803 - val_loss: 0.3018 - val_accuracy: 0.8872\n",
      "Epoch 8/50\n",
      "48000/48000 [==============================] - 2s 42us/step - loss: 0.3092 - accuracy: 0.8867 - val_loss: 0.2901 - val_accuracy: 0.8942\n",
      "Epoch 9/50\n",
      "48000/48000 [==============================] - 2s 41us/step - loss: 0.2956 - accuracy: 0.8922 - val_loss: 0.2828 - val_accuracy: 0.8957\n",
      "Epoch 10/50\n",
      "48000/48000 [==============================] - 2s 41us/step - loss: 0.2823 - accuracy: 0.8960 - val_loss: 0.2895 - val_accuracy: 0.8876\n",
      "Epoch 11/50\n",
      "48000/48000 [==============================] - 2s 42us/step - loss: 0.2772 - accuracy: 0.8973 - val_loss: 0.2979 - val_accuracy: 0.8858\n",
      "Epoch 12/50\n",
      "48000/48000 [==============================] - 2s 42us/step - loss: 0.2636 - accuracy: 0.9022 - val_loss: 0.2665 - val_accuracy: 0.8979\n",
      "Epoch 13/50\n",
      "48000/48000 [==============================] - 2s 41us/step - loss: 0.2525 - accuracy: 0.9073 - val_loss: 0.2747 - val_accuracy: 0.8987\n",
      "Epoch 14/50\n",
      "48000/48000 [==============================] - 2s 41us/step - loss: 0.2473 - accuracy: 0.9079 - val_loss: 0.2616 - val_accuracy: 0.9020\n",
      "Epoch 15/50\n",
      "48000/48000 [==============================] - 2s 42us/step - loss: 0.2402 - accuracy: 0.9109 - val_loss: 0.2558 - val_accuracy: 0.9033\n",
      "Epoch 16/50\n",
      "48000/48000 [==============================] - 2s 41us/step - loss: 0.2325 - accuracy: 0.9153 - val_loss: 0.2502 - val_accuracy: 0.9096\n",
      "Epoch 17/50\n",
      "48000/48000 [==============================] - 2s 41us/step - loss: 0.2227 - accuracy: 0.9177 - val_loss: 0.2498 - val_accuracy: 0.9079\n",
      "Epoch 18/50\n",
      "48000/48000 [==============================] - 2s 41us/step - loss: 0.2172 - accuracy: 0.9198 - val_loss: 0.2634 - val_accuracy: 0.9052\n",
      "Epoch 19/50\n",
      "48000/48000 [==============================] - 2s 41us/step - loss: 0.2145 - accuracy: 0.9200 - val_loss: 0.2542 - val_accuracy: 0.9063\n",
      "Epoch 20/50\n",
      "48000/48000 [==============================] - 2s 42us/step - loss: 0.2094 - accuracy: 0.9224 - val_loss: 0.2472 - val_accuracy: 0.9107\n",
      "Epoch 21/50\n",
      "48000/48000 [==============================] - 2s 42us/step - loss: 0.1987 - accuracy: 0.9266 - val_loss: 0.2505 - val_accuracy: 0.9105\n",
      "Epoch 22/50\n",
      "48000/48000 [==============================] - 2s 42us/step - loss: 0.1921 - accuracy: 0.9287 - val_loss: 0.2436 - val_accuracy: 0.9128\n",
      "Epoch 23/50\n",
      "48000/48000 [==============================] - 2s 41us/step - loss: 0.1878 - accuracy: 0.9301 - val_loss: 0.2541 - val_accuracy: 0.9082\n",
      "Epoch 24/50\n",
      "48000/48000 [==============================] - 2s 42us/step - loss: 0.1884 - accuracy: 0.9297 - val_loss: 0.2555 - val_accuracy: 0.9097\n",
      "Epoch 25/50\n",
      "48000/48000 [==============================] - 2s 42us/step - loss: 0.1826 - accuracy: 0.9325 - val_loss: 0.2489 - val_accuracy: 0.9133\n",
      "Epoch 26/50\n",
      "48000/48000 [==============================] - 2s 42us/step - loss: 0.1735 - accuracy: 0.9355 - val_loss: 0.2515 - val_accuracy: 0.9116\n",
      "Epoch 27/50\n",
      "48000/48000 [==============================] - 2s 41us/step - loss: 0.1703 - accuracy: 0.9362 - val_loss: 0.2480 - val_accuracy: 0.9142\n",
      "Epoch 28/50\n",
      "48000/48000 [==============================] - 2s 41us/step - loss: 0.1656 - accuracy: 0.9380 - val_loss: 0.2409 - val_accuracy: 0.9153\n",
      "Epoch 29/50\n",
      "48000/48000 [==============================] - 2s 42us/step - loss: 0.1647 - accuracy: 0.9378 - val_loss: 0.2581 - val_accuracy: 0.9082\n",
      "Epoch 30/50\n",
      "48000/48000 [==============================] - 2s 42us/step - loss: 0.1540 - accuracy: 0.9432 - val_loss: 0.2549 - val_accuracy: 0.9133\n",
      "Epoch 31/50\n",
      "48000/48000 [==============================] - 2s 41us/step - loss: 0.1506 - accuracy: 0.9452 - val_loss: 0.2515 - val_accuracy: 0.9147\n",
      "Epoch 32/50\n",
      "48000/48000 [==============================] - 2s 41us/step - loss: 0.1539 - accuracy: 0.9436 - val_loss: 0.2492 - val_accuracy: 0.9134\n",
      "Epoch 33/50\n",
      "48000/48000 [==============================] - 2s 44us/step - loss: 0.1404 - accuracy: 0.9481 - val_loss: 0.2550 - val_accuracy: 0.9136\n",
      "Epoch 34/50\n",
      "48000/48000 [==============================] - 2s 44us/step - loss: 0.1413 - accuracy: 0.9466 - val_loss: 0.2667 - val_accuracy: 0.9132\n",
      "Epoch 35/50\n",
      "48000/48000 [==============================] - 2s 42us/step - loss: 0.1373 - accuracy: 0.9485 - val_loss: 0.2578 - val_accuracy: 0.9168\n",
      "Epoch 36/50\n",
      "48000/48000 [==============================] - 2s 41us/step - loss: 0.1318 - accuracy: 0.9506 - val_loss: 0.2652 - val_accuracy: 0.9138\n",
      "Epoch 37/50\n",
      "48000/48000 [==============================] - 2s 42us/step - loss: 0.1300 - accuracy: 0.9516 - val_loss: 0.2601 - val_accuracy: 0.9146\n",
      "Epoch 38/50\n",
      "48000/48000 [==============================] - 2s 42us/step - loss: 0.1270 - accuracy: 0.9531 - val_loss: 0.2638 - val_accuracy: 0.9153\n",
      "Epoch 39/50\n",
      "48000/48000 [==============================] - 2s 42us/step - loss: 0.1239 - accuracy: 0.9529 - val_loss: 0.2710 - val_accuracy: 0.9140\n",
      "Epoch 40/50\n",
      "48000/48000 [==============================] - 2s 41us/step - loss: 0.1198 - accuracy: 0.9548 - val_loss: 0.2802 - val_accuracy: 0.9130\n",
      "Epoch 41/50\n",
      "48000/48000 [==============================] - 2s 42us/step - loss: 0.1176 - accuracy: 0.9557 - val_loss: 0.2733 - val_accuracy: 0.9139\n",
      "Epoch 42/50\n",
      "48000/48000 [==============================] - 2s 42us/step - loss: 0.1149 - accuracy: 0.9570 - val_loss: 0.2709 - val_accuracy: 0.9169\n",
      "Epoch 43/50\n",
      "48000/48000 [==============================] - 2s 42us/step - loss: 0.1102 - accuracy: 0.9584 - val_loss: 0.2898 - val_accuracy: 0.9117\n",
      "Epoch 44/50\n",
      "48000/48000 [==============================] - 2s 42us/step - loss: 0.1081 - accuracy: 0.9590 - val_loss: 0.2957 - val_accuracy: 0.9120\n",
      "Epoch 45/50\n",
      "48000/48000 [==============================] - 2s 42us/step - loss: 0.1091 - accuracy: 0.9589 - val_loss: 0.2758 - val_accuracy: 0.9166\n",
      "Epoch 46/50\n",
      "48000/48000 [==============================] - 2s 41us/step - loss: 0.1037 - accuracy: 0.9618 - val_loss: 0.2895 - val_accuracy: 0.9147\n",
      "Epoch 47/50\n",
      "48000/48000 [==============================] - 2s 42us/step - loss: 0.0986 - accuracy: 0.9635 - val_loss: 0.2862 - val_accuracy: 0.9137\n",
      "Epoch 48/50\n",
      "48000/48000 [==============================] - 2s 42us/step - loss: 0.0966 - accuracy: 0.9627 - val_loss: 0.2912 - val_accuracy: 0.9153\n",
      "Epoch 49/50\n",
      "48000/48000 [==============================] - 2s 41us/step - loss: 0.0934 - accuracy: 0.9652 - val_loss: 0.2923 - val_accuracy: 0.9167\n",
      "Epoch 50/50\n",
      "48000/48000 [==============================] - 2s 42us/step - loss: 0.0957 - accuracy: 0.9633 - val_loss: 0.2958 - val_accuracy: 0.9152\n"
     ]
    },
    {
     "data": {
      "text/plain": [
       "<keras.callbacks.callbacks.History at 0x7fdfaf4e8898>"
      ]
     },
     "execution_count": 83,
     "metadata": {
      "tags": []
     },
     "output_type": "execute_result"
    }
   ],
   "source": [
    "model.fit(x_train,y_train,epochs=50,batch_size=512,verbose=1,validation_data=(x_val,y_val))"
   ]
  },
  {
   "cell_type": "markdown",
   "metadata": {
    "colab_type": "text",
    "id": "nfyj63kiqRzb"
   },
   "source": [
    "## Test Model"
   ]
  },
  {
   "cell_type": "code",
   "execution_count": 84,
   "metadata": {
    "colab": {
     "base_uri": "https://localhost:8080/",
     "height": 34
    },
    "colab_type": "code",
    "id": "SmzZpPc8qW8R",
    "outputId": "a9c58c68-2de4-47b6-e010-41333d616fd6"
   },
   "outputs": [
    {
     "data": {
      "text/plain": [
       "array([[0., 0., 0., 0., 0., 0., 0., 0., 0., 1.]], dtype=float32)"
      ]
     },
     "execution_count": 84,
     "metadata": {
      "tags": []
     },
     "output_type": "execute_result"
    }
   ],
   "source": [
    "model.predict(np.expand_dims(x_test[0],axis=0)).round(2)"
   ]
  },
  {
   "cell_type": "code",
   "execution_count": 85,
   "metadata": {
    "colab": {
     "base_uri": "https://localhost:8080/",
     "height": 34
    },
    "colab_type": "code",
    "id": "F41gcIKtqrWK",
    "outputId": "b278c794-768e-408f-f415-23f8bc1ae579"
   },
   "outputs": [
    {
     "data": {
      "text/plain": [
       "9"
      ]
     },
     "execution_count": 85,
     "metadata": {
      "tags": []
     },
     "output_type": "execute_result"
    }
   ],
   "source": [
    "np.argmax(model.predict(np.expand_dims(x_test[0],axis=0)).round(2))"
   ]
  },
  {
   "cell_type": "code",
   "execution_count": 86,
   "metadata": {
    "colab": {
     "base_uri": "https://localhost:8080/",
     "height": 34
    },
    "colab_type": "code",
    "id": "FVXzZpuKrAM1",
    "outputId": "927fd7b7-6d94-4c34-c525-93eb96282427"
   },
   "outputs": [
    {
     "data": {
      "text/plain": [
       "9"
      ]
     },
     "execution_count": 86,
     "metadata": {
      "tags": []
     },
     "output_type": "execute_result"
    }
   ],
   "source": [
    "y_test[0]"
   ]
  },
  {
   "cell_type": "code",
   "execution_count": 87,
   "metadata": {
    "colab": {
     "base_uri": "https://localhost:8080/",
     "height": 134
    },
    "colab_type": "code",
    "id": "dfx6ueNJrZ_G",
    "outputId": "3193f887-ed81-49b7-d313-efae92dcb2da"
   },
   "outputs": [
    {
     "data": {
      "text/plain": [
       "array([[0.  , 0.  , 0.  , ..., 0.  , 0.  , 1.  ],\n",
       "       [0.  , 0.  , 1.  , ..., 0.  , 0.  , 0.  ],\n",
       "       [0.  , 1.  , 0.  , ..., 0.  , 0.  , 0.  ],\n",
       "       ...,\n",
       "       [0.  , 0.  , 0.  , ..., 0.  , 1.  , 0.  ],\n",
       "       [0.  , 1.  , 0.  , ..., 0.  , 0.  , 0.  ],\n",
       "       [0.  , 0.  , 0.  , ..., 0.01, 0.  , 0.  ]], dtype=float32)"
      ]
     },
     "execution_count": 87,
     "metadata": {
      "tags": []
     },
     "output_type": "execute_result"
    }
   ],
   "source": [
    "y_pred=model.predict(x_test).round(2)\n",
    "y_pred"
   ]
  },
  {
   "cell_type": "code",
   "execution_count": 88,
   "metadata": {
    "colab": {
     "base_uri": "https://localhost:8080/",
     "height": 50
    },
    "colab_type": "code",
    "id": "BMN1sWUjrhqF",
    "outputId": "6698d19d-78e9-4de1-ba85-4bcb54f536c2"
   },
   "outputs": [
    {
     "name": "stdout",
     "output_type": "stream",
     "text": [
      "10000/10000 [==============================] - 1s 98us/step\n"
     ]
    },
    {
     "data": {
      "text/plain": [
       "[0.33572192831039427, 0.911300003528595]"
      ]
     },
     "execution_count": 88,
     "metadata": {
      "tags": []
     },
     "output_type": "execute_result"
    }
   ],
   "source": [
    "model.evaluate(x_test,y_test)"
   ]
  },
  {
   "cell_type": "code",
   "execution_count": 89,
   "metadata": {
    "colab": {
     "base_uri": "https://localhost:8080/",
     "height": 1000
    },
    "colab_type": "code",
    "id": "ZpIdbxljsx8t",
    "outputId": "7f72dc1b-8f04-4fb6-cac4-da8009c8222b"
   },
   "outputs": [
    {
     "data": {
      "image/png": "[encoded data removed]",
      "text/plain": [
       "<Figure size 1152x2160 with 60 Axes>"
      ]
     },
     "metadata": {
      "needs_background": "light",
      "tags": []
     },
     "output_type": "display_data"
    }
   ],
   "source": [
    "#visualize\n",
    "plt.figure(figsize=(16,30))\n",
    "j=1\n",
    "for i in np.random.randint(0,1000,60):\n",
    "  plt.subplot(10,6,j); j+=1\n",
    "  plt.imshow(x_test[i].reshape(28,28),cmap=\"Greys\")\n",
    "  plt.axis(\"off\")\n",
    "  plt.title(\"Actual={}/{}  \\n Predicted={}/{}\".format(class_labels[y_test[i]],y_test[i],class_labels[np.argmax(y_pred[i])],np.argmax(y_pred[i])))"
   ]
  },
  {
   "cell_type": "code",
   "execution_count": 90,
   "metadata": {
    "colab": {
     "base_uri": "https://localhost:8080/",
     "height": 404
    },
    "colab_type": "code",
    "id": "zC1keIab1brw",
    "outputId": "ffeeec4f-4565-4dc5-b688-e678be55cfd6"
   },
   "outputs": [
    {
     "data": {
      "text/plain": [
       "<matplotlib.axes._subplots.AxesSubplot at 0x7fdfaf279b70>"
      ]
     },
     "execution_count": 90,
     "metadata": {
      "tags": []
     },
     "output_type": "execute_result"
    },
    {
     "data": {
      "image/png": "[encoded data removed]",
      "text/plain": [
       "<Figure size 1152x648 with 2 Axes>"
      ]
     },
     "metadata": {
      "needs_background": "light",
      "tags": []
     },
     "output_type": "display_data"
    }
   ],
   "source": [
    "#confusion matrix\n",
    "from sklearn.metrics import confusion_matrix\n",
    " \n",
    "plt.figure(figsize=(16,9))\n",
    "y_pred_labels = [ np.argmax(x) for x in y_pred ]\n",
    "cm = confusion_matrix(y_test, y_pred_labels)\n",
    "sns.heatmap(cm,annot=True,fmt='d',xticklabels=class_labels,yticklabels=class_labels)"
   ]
  },
  {
   "cell_type": "code",
   "execution_count": 91,
   "metadata": {
    "colab": {
     "base_uri": "https://localhost:8080/",
     "height": 302
    },
    "colab_type": "code",
    "id": "cBXOI7Zp3C2E",
    "outputId": "d294ccbe-c02d-45c8-a17b-f56ee787c027"
   },
   "outputs": [
    {
     "name": "stdout",
     "output_type": "stream",
     "text": [
      "              precision    recall  f1-score   support\n",
      "\n",
      " T-shirt/top       0.85      0.85      0.85      1000\n",
      "     Trouser       1.00      0.98      0.99      1000\n",
      "    Pullover       0.86      0.88      0.87      1000\n",
      "       Dress       0.92      0.92      0.92      1000\n",
      "        Coat       0.86      0.85      0.86      1000\n",
      "      Sandal       0.98      0.98      0.98      1000\n",
      "       Shirt       0.75      0.75      0.75      1000\n",
      "     Sneaker       0.94      0.98      0.96      1000\n",
      "         Bag       0.98      0.97      0.98      1000\n",
      "  Ankle boot       0.98      0.95      0.97      1000\n",
      "\n",
      "    accuracy                           0.91     10000\n",
      "   macro avg       0.91      0.91      0.91     10000\n",
      "weighted avg       0.91      0.91      0.91     10000\n",
      "\n"
     ]
    }
   ],
   "source": [
    "from sklearn.metrics import classification_report\n",
    "cr=classification_report(y_test,y_pred_labels,target_names=class_labels)\n",
    "print(cr)"
   ]
  },
  {
   "cell_type": "markdown",
   "metadata": {
    "colab_type": "text",
    "id": "sv3mprgo6-bD"
   },
   "source": [
    "Save Model"
   ]
  },
  {
   "cell_type": "code",
   "execution_count": 92,
   "metadata": {
    "colab": {},
    "colab_type": "code",
    "id": "F0oKa9Gk7FP6"
   },
   "outputs": [],
   "source": [
    " model.save(\"fashion_classification_CNN_ Model.h5\")"
   ]
  },
  {
   "cell_type": "markdown",
   "metadata": {
    "colab_type": "text",
    "id": "C4p_CNKoAu-l"
   },
   "source": [
    "Read model"
   ]
  },
  {
   "cell_type": "code",
   "execution_count": 93,
   "metadata": {
    "colab": {},
    "colab_type": "code",
    "id": "BTuDj1joAyan"
   },
   "outputs": [],
   "source": [
    "model_deploy = keras.models.load_model('/content/fashion_classification_CNN_ Model.h5')"
   ]
  },
  {
   "cell_type": "code",
   "execution_count": 94,
   "metadata": {
    "colab": {
     "base_uri": "https://localhost:8080/",
     "height": 34
    },
    "colab_type": "code",
    "id": "GPoKUpPBBIcT",
    "outputId": "1310b8e6-162a-4f7b-b5a9-9dd8f3c1c778"
   },
   "outputs": [
    {
     "data": {
      "text/plain": [
       "array([[0., 0., 1., 0., 0., 0., 0., 0., 0., 0.]], dtype=float32)"
      ]
     },
     "execution_count": 94,
     "metadata": {
      "tags": []
     },
     "output_type": "execute_result"
    }
   ],
   "source": [
    "model_deploy.predict(np.expand_dims(x_test[1],axis=0)).round(2)"
   ]
  },
  {
   "cell_type": "code",
   "execution_count": 95,
   "metadata": {
    "colab": {
     "base_uri": "https://localhost:8080/",
     "height": 34
    },
    "colab_type": "code",
    "id": "83lOyvDhCIpq",
    "outputId": "051dfc02-2e25-4a0b-ebf3-794c2c19490f"
   },
   "outputs": [
    {
     "data": {
      "text/plain": [
       "2"
      ]
     },
     "execution_count": 95,
     "metadata": {
      "tags": []
     },
     "output_type": "execute_result"
    }
   ],
   "source": [
    "np.argmax(model_deploy.predict(np.expand_dims(x_test[1],axis=0)).round(2))"
   ]
  },
  {
   "cell_type": "code",
   "execution_count": 96,
   "metadata": {
    "colab": {
     "base_uri": "https://localhost:8080/",
     "height": 34
    },
    "colab_type": "code",
    "id": "65ASbo7xCRPN",
    "outputId": "6e95c7aa-280c-40f1-c0fa-3485233986a6"
   },
   "outputs": [
    {
     "data": {
      "text/plain": [
       "2"
      ]
     },
     "execution_count": 96,
     "metadata": {
      "tags": []
     },
     "output_type": "execute_result"
    }
   ],
   "source": [
    " y_test[1]"
   ]
  },
  {
   "cell_type": "code",
   "execution_count": 96,
   "metadata": {
    "colab": {},
    "colab_type": "code",
    "id": "1BnIwhi7CnVL"
   },
   "outputs": [],
   "source": []
  }
 ],
 "metadata": {
  "accelerator": "GPU",
  "colab": {
   "collapsed_sections": [],
   "name": "CNN_Fashion_MNIST.ipynb",
   "provenance": []
  },
  "kernelspec": {
   "display_name": "Python 3",
   "language": "python",
   "name": "python3"
  },
  "language_info": {
   "codemirror_mode": {
    "name": "ipython",
    "version": 3
   },
   "file_extension": ".py",
   "mimetype": "text/x-python",
   "name": "python",
   "nbconvert_exporter": "python",
   "pygments_lexer": "ipython3",
   "version": "3.7.0"
  }
 },
 "nbformat": 4,
 "nbformat_minor": 1
}
